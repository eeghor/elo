{
 "cells": [
  {
   "cell_type": "code",
   "execution_count": 13,
   "metadata": {},
   "outputs": [],
   "source": [
    "import pandas as pd\n",
    "from sklearn.pipeline import Pipeline, FeatureUnion\n",
    "import arrow\n",
    "from collections import Counter, defaultdict, namedtuple\n",
    "from itertools import chain\n",
    "from keras.layers import Input, Dense\n",
    "from keras.models import Model\n",
    "from sklearn.base import TransformerMixin, BaseEstimator"
   ]
  },
  {
   "cell_type": "code",
   "execution_count": 40,
   "metadata": {},
   "outputs": [],
   "source": [
    "class Selector(BaseEstimator, TransformerMixin):\n",
    "    \n",
    "    \"\"\"\n",
    "    pick a specific column of data frame X for further use within a pipeline\n",
    "    \"\"\"\n",
    "    \n",
    "    def fit(self, y=None, **fit_params):\n",
    "        return self\n",
    "    \n",
    "    def transform(self, X, **transform_params):\n",
    "        return X[[w for w in chain(transform_params['col'])]]\n",
    "    \n",
    "class AuthorizationFeatures(BaseEstimator, TransformerMixin):\n",
    "    \n",
    "    \"\"\"\n",
    "    have this card even been unauthorised? returns a data frame with card_id as index and a single column called ever_declined\n",
    "    \"\"\"\n",
    "    \n",
    "    def fit(self, y=None, **fit_params):\n",
    "        return self\n",
    "    \n",
    "    def transform(self, X, **transform_params):\n",
    "        return X[['card_id', 'authorized_flag']].groupby(['card_id']).sum().iloc[:,0].apply(lambda x: 1 if 'n' in x.lower() else 0).to_frame(name='ever_declined')\n",
    "        \n",
    "class CategoricalFeatures(BaseEstimator, TransformerMixin):\n",
    "    \n",
    "    \"\"\"\n",
    "    create binary features from categorical\n",
    "    \"\"\"\n",
    "    \n",
    "    def fit(self, y=None, **fit_params):\n",
    "        return self\n",
    "    \n",
    "    def transform(self, X, **transform_params):\n",
    "        return pd.get_dummies(X, prefix={c: f'cat_{c}' for c in X.columns}, columns=X.columns)\n",
    "\n",
    "\n",
    "class PurchaseDateFeatures(BaseEstimator, TransformerMixin):\n",
    "    \n",
    "    \"\"\"\n",
    "    some possibly important features related to the purchase date\n",
    "    \"\"\"\n",
    "    \n",
    "    def fit(self, X, y=None, **fit_params):\n",
    "        return self\n",
    "    \n",
    "    def get_date_features(self, dt):\n",
    "        \n",
    "        \"\"\"\n",
    "        extract potentially useful fetures from a purchase date string\n",
    "        \"\"\"\n",
    "        \n",
    "        DateFeatures = namedtuple('DateFeatures', 'month weekday mall_hrs buss_hrs')\n",
    "        \n",
    "        mall_hours = (10,22)\n",
    "        business_hours = (8,18)\n",
    "        \n",
    "        _dt = arrow.get(dt)\n",
    "        \n",
    "        hr = _dt.hour\n",
    "        \n",
    "        out = DateFeatures(month=_dt.month, weekday=_dt.weekday(), \n",
    "                               mall_hrs = 1 if mall_hours[0] <= hr <= mall_hours[1] else 0,\n",
    "                                  buss_hrs = 1 if business_hours[0] <= hr <= business_hours[1] else 0)\n",
    "        \n",
    "        return out\n",
    "    \n",
    "    def transform(self, X, **transform_params):\n",
    "                                   \n",
    "        return pd.DataFrame(X['purchase_date'].apply(lambda _: self.get_date_features(_)).tolist())\n",
    "    \n",
    "class Elo:\n",
    "    \n",
    "    def __init__(self):\n",
    "        \n",
    "        self.hist_trans = pd.read_csv('data/historical_transactions.csv.gz')\n",
    "        print(f'historical transactions: {len(self.hist_trans):,} rows / {len(self.hist_trans.card_id.unique()):,} cards')\n",
    "        self.new_trans = pd.read_csv('data/new_merchant_transactions.csv.gz')\n",
    "        print(f'new transactions: {len(self.new_trans):,} rows')\n",
    "        self.merchants = pd.read_csv('data/merchants.csv.gz')\n",
    "        print(f'merchants: {len(self.merchants):,} rows')\n",
    "        self.train = pd.read_csv('data/train.csv.gz')\n",
    "        print(f'train: {len(self.train):,} rows')\n",
    "        # categorical columns\n",
    "        self.CAT = {col: col + '_cat' for col in 'authorized_flag city_id category_1 category_2 category_3 merchant_category_id state_id subsector_id'.split()}"
   ]
  },
  {
   "cell_type": "code",
   "execution_count": 41,
   "metadata": {},
   "outputs": [
    {
     "name": "stdout",
     "output_type": "stream",
     "text": [
      "historical transactions: 29,112,361 rows / 325,540 cards\n",
      "new transactions: 1,963,031 rows\n",
      "merchants: 334,696 rows\n",
      "train: 201,917 rows\n"
     ]
    }
   ],
   "source": [
    "if __name__ == '__main__':\n",
    "    \n",
    "    elo = Elo()"
   ]
  },
  {
   "cell_type": "code",
   "execution_count": 42,
   "metadata": {},
   "outputs": [],
   "source": [
    "cf = CategoricalFeatures()"
   ]
  },
  {
   "cell_type": "code",
   "execution_count": 43,
   "metadata": {},
   "outputs": [],
   "source": [
    "d = elo.hist_trans.iloc[:50,:]\n",
    "\n",
    "s = Selector()\n",
    "s.fit(d)\n",
    "gg = s.transform(d, col=['city_id', 'state_id'])"
   ]
  },
  {
   "cell_type": "code",
   "execution_count": 44,
   "metadata": {},
   "outputs": [
    {
     "data": {
      "text/html": [
       "<div>\n",
       "<style scoped>\n",
       "    .dataframe tbody tr th:only-of-type {\n",
       "        vertical-align: middle;\n",
       "    }\n",
       "\n",
       "    .dataframe tbody tr th {\n",
       "        vertical-align: top;\n",
       "    }\n",
       "\n",
       "    .dataframe thead th {\n",
       "        text-align: right;\n",
       "    }\n",
       "</style>\n",
       "<table border=\"1\" class=\"dataframe\">\n",
       "  <thead>\n",
       "    <tr style=\"text-align: right;\">\n",
       "      <th></th>\n",
       "      <th>city_id</th>\n",
       "      <th>state_id</th>\n",
       "    </tr>\n",
       "  </thead>\n",
       "  <tbody>\n",
       "    <tr>\n",
       "      <th>0</th>\n",
       "      <td>88</td>\n",
       "      <td>16</td>\n",
       "    </tr>\n",
       "    <tr>\n",
       "      <th>1</th>\n",
       "      <td>88</td>\n",
       "      <td>16</td>\n",
       "    </tr>\n",
       "    <tr>\n",
       "      <th>2</th>\n",
       "      <td>88</td>\n",
       "      <td>16</td>\n",
       "    </tr>\n",
       "    <tr>\n",
       "      <th>3</th>\n",
       "      <td>88</td>\n",
       "      <td>16</td>\n",
       "    </tr>\n",
       "    <tr>\n",
       "      <th>4</th>\n",
       "      <td>88</td>\n",
       "      <td>16</td>\n",
       "    </tr>\n",
       "  </tbody>\n",
       "</table>\n",
       "</div>"
      ],
      "text/plain": [
       "   city_id  state_id\n",
       "0       88        16\n",
       "1       88        16\n",
       "2       88        16\n",
       "3       88        16\n",
       "4       88        16"
      ]
     },
     "execution_count": 44,
     "metadata": {},
     "output_type": "execute_result"
    }
   ],
   "source": [
    "gg.head()"
   ]
  }
 ],
 "metadata": {
  "kernelspec": {
   "display_name": "Python 3",
   "language": "python",
   "name": "python3"
  },
  "language_info": {
   "codemirror_mode": {
    "name": "ipython",
    "version": 3
   },
   "file_extension": ".py",
   "mimetype": "text/x-python",
   "name": "python",
   "nbconvert_exporter": "python",
   "pygments_lexer": "ipython3",
   "version": "3.6.6"
  }
 },
 "nbformat": 4,
 "nbformat_minor": 2
}
